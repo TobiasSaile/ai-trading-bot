{
 "cells": [
  {
   "cell_type": "code",
   "execution_count": 1,
   "id": "663d487d-9af6-4ce8-ba3a-6d7f48b5e89e",
   "metadata": {},
   "outputs": [
    {
     "name": "stdout",
     "output_type": "stream",
     "text": [
      "✅ LightGBM ist einsatzbereit!\n"
     ]
    }
   ],
   "source": [
    "import lightgbm as lgb\n",
    "print(\"✅ LightGBM ist einsatzbereit!\")"
   ]
  },
  {
   "cell_type": "code",
   "execution_count": null,
   "id": "6295b97a-b756-4a6f-a1b2-57f90a63c6f5",
   "metadata": {},
   "outputs": [],
   "source": []
  }
 ],
 "metadata": {
  "kernelspec": {
   "display_name": "Python 3 (ipykernel)",
   "language": "python",
   "name": "python3"
  },
  "language_info": {
   "codemirror_mode": {
    "name": "ipython",
    "version": 3
   },
   "file_extension": ".py",
   "mimetype": "text/x-python",
   "name": "python",
   "nbconvert_exporter": "python",
   "pygments_lexer": "ipython3",
   "version": "3.11.9"
  }
 },
 "nbformat": 4,
 "nbformat_minor": 5
}
